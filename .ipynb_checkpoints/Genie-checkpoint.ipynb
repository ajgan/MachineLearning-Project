{
 "cells": [
  {
   "cell_type": "code",
   "execution_count": 1,
   "metadata": {
    "collapsed": true
   },
   "outputs": [],
   "source": [
    "import numpy as np\n",
    "import pandas as pd"
   ]
  },
  {
   "cell_type": "code",
   "execution_count": 2,
   "metadata": {
    "collapsed": true
   },
   "outputs": [],
   "source": [
    "lenses = pd.read_csv('lenses.csv')"
   ]
  },
  {
   "cell_type": "code",
   "execution_count": 3,
   "metadata": {
    "collapsed": true
   },
   "outputs": [],
   "source": [
    "from scipy.spatial.distance import squareform, pdist"
   ]
  },
  {
   "cell_type": "code",
   "execution_count": 4,
   "metadata": {
    "collapsed": true
   },
   "outputs": [],
   "source": [
    "from scipy.sparse.csgraph import minimum_spanning_tree"
   ]
  },
  {
   "cell_type": "code",
   "execution_count": 5,
   "metadata": {
    "collapsed": true
   },
   "outputs": [],
   "source": [
    "from scipy.cluster.hierarchy import dendrogram, linkage\n",
    "from matplotlib import pyplot as plt"
   ]
  },
  {
   "cell_type": "code",
   "execution_count": 6,
   "metadata": {
    "collapsed": true
   },
   "outputs": [],
   "source": [
    "import sys"
   ]
  },
  {
   "cell_type": "code",
   "execution_count": 7,
   "metadata": {
    "collapsed": true
   },
   "outputs": [],
   "source": [
    "from sklearn.metrics.pairwise import pairwise_distances"
   ]
  },
  {
   "cell_type": "code",
   "execution_count": 48,
   "metadata": {
    "collapsed": true
   },
   "outputs": [],
   "source": [
    "from sklearn.metrics import f1_score"
   ]
  },
  {
   "cell_type": "code",
   "execution_count": 46,
   "metadata": {
    "collapsed": true
   },
   "outputs": [],
   "source": [
    "def labelClusters(clusters, target):\n",
    "    mySet = set(clusters)\n",
    "    resultList = []\n",
    "    for i in mySet:\n",
    "        myClasses = []\n",
    "        for j in range(len(clusters)):\n",
    "            if (clusters[j] == i):\n",
    "                myClasses.append(target[j]) \n",
    "        resultList.append(max(set(myClasses), key=myClasses.count))\n",
    "    \n",
    "    mySetArray = []\n",
    "    for i in mySet:\n",
    "        mySetArray.append(i)\n",
    "        \n",
    "    labels = []\n",
    "        \n",
    "    for i in range(len(clusters)):\n",
    "        for j in range(len(mySetArray)):\n",
    "            if (clusters[i] == mySetArray[j]):\n",
    "                labels.append(resultList[j])\n",
    "    return labels"
   ]
  },
  {
   "cell_type": "code",
   "execution_count": 8,
   "metadata": {
    "collapsed": true
   },
   "outputs": [],
   "source": [
    "def gini(x):\n",
    "    # (Warning: This is a concise implementation, but it is O(n**2)\n",
    "    # in time and memory, where n = len(x).  *Don't* pass in huge\n",
    "    # samples!)\n",
    "\n",
    "    # Mean absolute difference\n",
    "    mad = np.abs(np.subtract.outer(x, x)).mean()\n",
    "    # Relative mean absolute difference\n",
    "    rmad = mad/np.mean(x)\n",
    "    # Gini coefficient\n",
    "    g = 0.5 * rmad\n",
    "    return g"
   ]
  },
  {
   "cell_type": "code",
   "execution_count": 9,
   "metadata": {
    "collapsed": true
   },
   "outputs": [],
   "source": [
    "def counting(arr):\n",
    "    mySet = set(arr)\n",
    "    myList = []\n",
    "    myNewSet = []\n",
    "    for i in mySet:\n",
    "        myNewSet.append(i)\n",
    "        \n",
    "    for i in range(len(myNewSet)):\n",
    "        myList.append(0)\n",
    "        for j in arr:\n",
    "            if (myNewSet[i]==j):\n",
    "                myList[i] += 1\n",
    "    return myList"
   ]
  },
  {
   "cell_type": "code",
   "execution_count": 10,
   "metadata": {
    "collapsed": true
   },
   "outputs": [],
   "source": [
    "def menorCluster(clusters):\n",
    "    mySet = set(clusters)\n",
    "    minimo = len(clusters)\n",
    "    menor = len(clusters)\n",
    "    for i in mySet:\n",
    "        if((clusters.count(i)) < minimo):\n",
    "            minimo = clusters.count(i)\n",
    "            menor = i\n",
    "            \n",
    "    myList = []\n",
    "    \n",
    "    for j in range(len(clusters)):\n",
    "        if(clusters[j]==menor):\n",
    "            myList.append(j)\n",
    "            \n",
    "    return myList"
   ]
  },
  {
   "cell_type": "code",
   "execution_count": 14,
   "metadata": {
    "collapsed": true
   },
   "outputs": [],
   "source": [
    "def genieLinkage(data, limiar):\n",
    "    \n",
    "    clusters = {}\n",
    "    row_index = 0\n",
    "    col_index = 0\n",
    "    array = []\n",
    "    \n",
    "\n",
    "    for n in range(data.shape[0]):\n",
    "        array.append(n)\n",
    "    \n",
    "        \n",
    "    clusters[0] = array.copy()\n",
    "\n",
    "    #finding minimum value from the distance matrix\n",
    "    #note that this loop will always return minimum value from bottom triangle of matrix\n",
    "    for k in range(1, data.shape[0]):\n",
    "        min_val = sys.maxsize\n",
    "        \n",
    "        if(gini(counting(clusters[k-1])) <= limiar):\n",
    "            for i in range(0, data.shape[0]):\n",
    "                for j in range(0, data.shape[1]):\n",
    "                    if(data[i][j]<=min_val):\n",
    "                        min_val = data[i][j]\n",
    "                        row_index = i\n",
    "                        col_index = j\n",
    "        else:\n",
    "            iList = menorCluster(clusters[k-1])\n",
    "            for i in iList:\n",
    "                for j in range(0, data.shape[0]):\n",
    "                    if(j not in iList):\n",
    "                        if(data[i][j]<=min_val):\n",
    "                            min_val = data[i][j]\n",
    "                            row_index = i\n",
    "                            col_index = j\n",
    "\n",
    "        array = clusters[k-1].copy()\n",
    "        minimum = min(array[row_index],array[col_index])\n",
    "        maximum = max(array[row_index],array[col_index])\n",
    "        \n",
    "        for n in range(len(array)):\n",
    "            if(array[n]==maximum):\n",
    "                array[n] = minimum\n",
    "        clusters[k] = array.copy()\n",
    "        \n",
    "        for i in range(len(array)):\n",
    "            for j in range(len(array)):\n",
    "                if(array[i]==array[j]):\n",
    "                    data[i][j] = sys.maxsize\n",
    "                    \n",
    "        if (k>(data.shape[0]*0.8)):\n",
    "            return clusters[k]"
   ]
  },
  {
   "cell_type": "code",
   "execution_count": 60,
   "metadata": {
    "collapsed": true
   },
   "outputs": [],
   "source": [
    "def genie(dataset, limiar):\n",
    "    \n",
    "#     dataX = dataset.loc[:,dataset.columns[:-1]].values\n",
    "#     dataY = dataset.loc[:,[dataset.columns[-1]]].values\n",
    "    dataX = dataset.data\n",
    "    dataY = dataset.target\n",
    "    \n",
    "    dataDistances = pairwise_distances(dataX,metric='euclidean')\n",
    "    #making all the diagonal elements infinity \n",
    "    np.fill_diagonal(dataDistances,sys.maxsize)\n",
    "    \n",
    "    clusters = genieLinkage(dataDistances, limiar)\n",
    "    \n",
    "    labels = labelClusters(clusters, dataY)\n",
    "    \n",
    "    fmScore = f1_score(dataY, labels, average='micro')\n",
    "    \n",
    "    return fmScore"
   ]
  },
  {
   "cell_type": "code",
   "execution_count": 16,
   "metadata": {
    "collapsed": true
   },
   "outputs": [],
   "source": [
    "from sklearn.datasets import load_iris\n",
    "iris = load_iris()"
   ]
  },
  {
   "cell_type": "code",
   "execution_count": 61,
   "metadata": {},
   "outputs": [
    {
     "data": {
      "text/plain": [
       "0.97333333333333338"
      ]
     },
     "execution_count": 61,
     "metadata": {},
     "output_type": "execute_result"
    }
   ],
   "source": [
    "genie(iris, 0.4)"
   ]
  },
  {
   "cell_type": "code",
   "execution_count": null,
   "metadata": {
    "collapsed": true
   },
   "outputs": [],
   "source": []
  }
 ],
 "metadata": {
  "kernelspec": {
   "display_name": "Python 3",
   "language": "python",
   "name": "python3"
  },
  "language_info": {
   "codemirror_mode": {
    "name": "ipython",
    "version": 3
   },
   "file_extension": ".py",
   "mimetype": "text/x-python",
   "name": "python",
   "nbconvert_exporter": "python",
   "pygments_lexer": "ipython3",
   "version": "3.6.1"
  }
 },
 "nbformat": 4,
 "nbformat_minor": 2
}
