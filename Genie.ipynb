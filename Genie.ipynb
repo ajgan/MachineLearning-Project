{
 "cells": [
  {
   "cell_type": "code",
   "execution_count": 1,
   "metadata": {},
   "outputs": [],
   "source": [
    "import numpy as np\n",
    "import pandas as pd"
   ]
  },
  {
   "cell_type": "code",
   "execution_count": 2,
   "metadata": {},
   "outputs": [],
   "source": [
    "from scipy.spatial.distance import squareform, pdist"
   ]
  },
  {
   "cell_type": "code",
   "execution_count": 3,
   "metadata": {},
   "outputs": [],
   "source": [
    "from scipy.sparse.csgraph import minimum_spanning_tree"
   ]
  },
  {
   "cell_type": "code",
   "execution_count": 4,
   "metadata": {},
   "outputs": [],
   "source": [
    "from scipy.cluster.hierarchy import dendrogram, linkage\n",
    "from matplotlib import pyplot as plt"
   ]
  },
  {
   "cell_type": "code",
   "execution_count": 5,
   "metadata": {},
   "outputs": [],
   "source": [
    "import sys"
   ]
  },
  {
   "cell_type": "code",
   "execution_count": 6,
   "metadata": {},
   "outputs": [],
   "source": [
    "from sklearn.metrics.pairwise import pairwise_distances"
   ]
  },
  {
   "cell_type": "code",
   "execution_count": 7,
   "metadata": {},
   "outputs": [],
   "source": [
    "from sklearn.metrics import f1_score"
   ]
  },
  {
   "cell_type": "code",
   "execution_count": 8,
   "metadata": {},
   "outputs": [],
   "source": [
    "from sklearn.metrics.cluster import fowlkes_mallows_score"
   ]
  },
  {
   "cell_type": "code",
   "execution_count": 22,
   "metadata": {},
   "outputs": [],
   "source": [
    "from sklearn.neighbors import KNeighborsClassifier\n",
    "from scipy.cluster.hierarchy import linkage\n",
    "from scipy.cluster.hierarchy import fcluster\n",
    "from scipy.cluster.hierarchy import cut_tree"
   ]
  },
  {
   "cell_type": "code",
   "execution_count": 10,
   "metadata": {},
   "outputs": [],
   "source": [
    "def labelClusters2(clusters, target, data):\n",
    "    mySet = set(clusters)\n",
    "    resultList = []\n",
    "    for i in mySet:\n",
    "        myPos = []\n",
    "        for j in range(len(clusters)):\n",
    "            if (clusters[j] == i):\n",
    "                myPos.append(j)\n",
    "        \n",
    "        myData = []\n",
    "        myTarget = []\n",
    "        for k in range(len(myPos)):\n",
    "            myData.append(data[j])\n",
    "            myTarget.append(target[j])\n",
    "        \n",
    "        centroid = []\n",
    "        for l in range(len(myData[0])):\n",
    "            mySum = 0\n",
    "            for m in range(len(myData)):\n",
    "                mySum += myData[m][l]\n",
    "            centroid.append(mySum/len(myData))\n",
    "        \n",
    "        if (len(myData) > 4):\n",
    "            neigh = KNeighborsClassifier(n_neighbors=5)\n",
    "        else:\n",
    "            neigh = KNeighborsClassifier(n_neighbors=1)\n",
    "            \n",
    "        neigh.fit(myData, myTarget)\n",
    "        neigh.predict(centroid)\n",
    "        resultList.append(neigh.predict(centroid)[0])\n",
    "    \n",
    "    mySetArray = []\n",
    "    for i in mySet:\n",
    "        mySetArray.append(i)\n",
    "        \n",
    "    labels = []\n",
    "        \n",
    "    for i in range(len(clusters)):\n",
    "        for j in range(len(mySetArray)):\n",
    "            if (clusters[i] == mySetArray[j]):\n",
    "                labels.append(resultList[j])\n",
    "    return labels"
   ]
  },
  {
   "cell_type": "code",
   "execution_count": 11,
   "metadata": {},
   "outputs": [],
   "source": [
    "def labelClusters(clusters, target):\n",
    "    mySet = set(clusters)\n",
    "    resultList = []\n",
    "    for i in mySet:\n",
    "        myClasses = []\n",
    "        for j in range(len(clusters)):\n",
    "            if (clusters[j] == i):\n",
    "                myClasses.append(target[j])\n",
    "        resultList.append(max(set(myClasses), key=myClasses.count))\n",
    "    \n",
    "    mySetArray = []\n",
    "    for i in mySet:\n",
    "        mySetArray.append(i)\n",
    "        \n",
    "    labels = []  \n",
    "    for i in range(len(clusters)):\n",
    "        for j in range(len(mySetArray)):\n",
    "            if (clusters[i] == mySetArray[j]):\n",
    "                labels.append(resultList[j])\n",
    "    return labels"
   ]
  },
  {
   "cell_type": "code",
   "execution_count": 12,
   "metadata": {},
   "outputs": [
    {
     "data": {
      "text/plain": [
       "2"
      ]
     },
     "execution_count": 12,
     "metadata": {},
     "output_type": "execute_result"
    }
   ],
   "source": [
    "abs(-2)"
   ]
  },
  {
   "cell_type": "code",
   "execution_count": 13,
   "metadata": {},
   "outputs": [],
   "source": [
    "def gini2(arr):\n",
    "    \n",
    "    somai = 0\n",
    "    somatot = arr[-1]\n",
    "    for i in range(len(arr)-1):\n",
    "        somaj = 0\n",
    "        for j in range(i+1, len(arr)):\n",
    "            somaj += abs(arr[i] - arr[j])\n",
    "        somai += somaj\n",
    "        somatot += arr[i]\n",
    "    mult = (len(arr) - 1) * somatot\n",
    "    \n",
    "    return (somai/mult)"
   ]
  },
  {
   "cell_type": "code",
   "execution_count": 14,
   "metadata": {},
   "outputs": [],
   "source": [
    "def counting(arr):\n",
    "    mySet = set(arr)\n",
    "    myList = []\n",
    "    myNewSet = []\n",
    "    for i in mySet:\n",
    "        myNewSet.append(i)\n",
    "        \n",
    "    for i in range(len(myNewSet)):\n",
    "        myList.append(0)\n",
    "        for j in arr:\n",
    "            if (myNewSet[i]==j):\n",
    "                myList[i] += 1\n",
    "    return myList"
   ]
  },
  {
   "cell_type": "code",
   "execution_count": null,
   "metadata": {},
   "outputs": [],
   "source": []
  },
  {
   "cell_type": "code",
   "execution_count": 15,
   "metadata": {},
   "outputs": [],
   "source": [
    "def menorCluster(clusters):\n",
    "    mySet = set(clusters)\n",
    "    minimo = len(clusters)\n",
    "    \n",
    "    for i in mySet:\n",
    "        if((clusters.count(i)) < minimo):\n",
    "            minimo = clusters.count(i)\n",
    "            \n",
    "    myList = []\n",
    "    \n",
    "    for j in range(len(clusters)):\n",
    "        if(clusters.count(clusters[j])==minimo):\n",
    "            myList.append(j)\n",
    "            \n",
    "    return myList"
   ]
  },
  {
   "cell_type": "code",
   "execution_count": 16,
   "metadata": {},
   "outputs": [],
   "source": [
    "def genieLinkage2(data, limiar, clusterNumber):\n",
    "    \n",
    "    clusters = {}\n",
    "    row_index = 0\n",
    "    col_index = 0\n",
    "    array = []\n",
    "    \n",
    "\n",
    "    for n in range(data.shape[0]):\n",
    "        array.append(n)\n",
    "    \n",
    "        \n",
    "    clusters[0] = array.copy()\n",
    "    \n",
    "    dists = []\n",
    "    \n",
    "    for i in range(0, data.shape[0]):\n",
    "        for j in range(i, data.shape[1]):\n",
    "            dists.append(([data[i][j], i, j]))\n",
    "    \n",
    "    dists.sort(key=lambda x: x[0])\n",
    "    pos = 0\n",
    "\n",
    "    for k in range(1, data.shape[0]):\n",
    "        min_val = sys.maxsize\n",
    "        \n",
    "        if(gini2(counting(clusters[k-1])) <= limiar):\n",
    "            for i in range(pos, len(dists)):\n",
    "                if(dists[i][0] == data[dists[i][1]][dists[i][2]]):\n",
    "                    pos = i\n",
    "                    min_val = dists[i][0]\n",
    "                    row_index = dists[i][1]\n",
    "                    col_index = dists[i][2]\n",
    "                    break\n",
    "        else:\n",
    "            iList = menorCluster(clusters[k-1])\n",
    "            for i in iList:\n",
    "                for j in range(0, data.shape[0]):\n",
    "                    if(data[i][j]<min_val):\n",
    "                        min_val = data[i][j]\n",
    "                        row_index = i\n",
    "                        col_index = j\n",
    "\n",
    "        array = clusters[k-1].copy()\n",
    "        minimum = min(array[row_index],array[col_index])\n",
    "        maximum = max(array[row_index],array[col_index])\n",
    "        \n",
    "        for n in range(len(array)):\n",
    "            if(array[n]==maximum):\n",
    "                array[n] = minimum\n",
    "        clusters[k] = array.copy()\n",
    "        \n",
    "        for i in range(len(array)):\n",
    "            for j in range(len(array)):\n",
    "                if(array[i]==array[j]):\n",
    "                    data[i][j] = sys.maxsize\n",
    "                    \n",
    "        if (len(set(clusters[k])) == clusterNumber):\n",
    "            return clusters[k]"
   ]
  },
  {
   "cell_type": "code",
   "execution_count": 17,
   "metadata": {},
   "outputs": [],
   "source": [
    "def genie2(dataset, target, limiar, clusterNumber):\n",
    "    \n",
    "#     dataX = dataset.loc[:,dataset.columns[:-1]].values\n",
    "#     dataY = dataset.loc[:,[dataset.columns[-1]]].values\n",
    "    dataX = dataset.values\n",
    "    dataY = target[0]\n",
    "    \n",
    "    dataDistances = pairwise_distances(dataX,metric='euclidean')\n",
    "    #making all the diagonal elements infinity \n",
    "    np.fill_diagonal(dataDistances,sys.maxsize)\n",
    "    \n",
    "    clusters = genieLinkage2(dataDistances, limiar, clusterNumber)\n",
    "    \n",
    "    labels = labelClusters(clusters, dataY)\n",
    "    #labels = labelClusters2(clusters,dataY, dataX)\n",
    "    \n",
    "    #fmScore = f1_score(dataY, labels, average='micro')\n",
    "    fmScore = fowlkes_mallows_score(dataY, labels)\n",
    "    \n",
    "    return fmScore"
   ]
  },
  {
   "cell_type": "code",
   "execution_count": 44,
   "metadata": {},
   "outputs": [],
   "source": [
    "a1 = pd.read_table(\"datasets/a1.data\", header=None, delim_whitespace=True)\n",
    "iris5 = pd.read_table(\"datasets/iris5.data\", header=None, delim_whitespace=True)\n",
    "flame = pd.read_table(\"datasets/flame.data\", header=None, delim_whitespace=True)\n",
    "pathbased = pd.read_table(\"datasets/pathbased.data\", header=None, delim_whitespace=True)\n",
    "unbalance = pd.read_table(\"datasets/unbalance.data\", header=None, delim_whitespace=True)\n",
    "\n"
   ]
  },
  {
   "cell_type": "code",
   "execution_count": 45,
   "metadata": {},
   "outputs": [],
   "source": [
    "a1labels = pd.read_table(\"labels/a1.labels\", header=None, delim_whitespace=True)\n",
    "iris5labels = pd.read_table(\"labels/iris5.labels\", header=None, delim_whitespace=True)\n",
    "flamelabels = pd.read_table(\"labels/flame.labels\", header=None, delim_whitespace=True)\n",
    "pathbasedlabels = pd.read_table(\"labels/pathbased.labels\", header=None, delim_whitespace=True)\n",
    "unbalancelabels = pd.read_table(\"labels/unbalance.labels\", header=None, delim_whitespace=True)"
   ]
  },
  {
   "cell_type": "code",
   "execution_count": 18,
   "metadata": {},
   "outputs": [],
   "source": [
    "import time"
   ]
  },
  {
   "cell_type": "code",
   "execution_count": null,
   "metadata": {},
   "outputs": [],
   "source": [
    "t1 = time.time()\n",
    "print(genie2(iris5, iris5labels, 0.3, 3))\n",
    "t2 = time.time()\n",
    "print(t2 - t1)"
   ]
  },
  {
   "cell_type": "code",
   "execution_count": null,
   "metadata": {},
   "outputs": [],
   "source": [
    "t1 = time.time()\n",
    "print(genie2(pathbased, pathbasedlabels, 0.6, 3))\n",
    "t2 = time.time()\n",
    "print(t2 - t1)"
   ]
  },
  {
   "cell_type": "code",
   "execution_count": null,
   "metadata": {},
   "outputs": [],
   "source": [
    "#0.691 ##0.665 0.738 0.765## 0.764 0.764 0.764 0.886 0.673\n",
    "iris5data = []\n",
    "for i in range(1,7):\n",
    "    if (i==1):\n",
    "        iris5data.append((genie2(iris5, iris5labels, 1, 3)))\n",
    "    else:\n",
    "        iris5data.append((genie2(iris5, iris5labels, i/10, 3)))\n",
    "iris5data"
   ]
  },
  {
   "cell_type": "code",
   "execution_count": 64,
   "metadata": {},
   "outputs": [],
   "source": [
    "#só executar da primeira vez\n",
    "\n",
    "result = pd.DataFrame(columns = [\"single\",\"complete\", \"ward\", \"average\",\"gini_02\",\"gini_03\",\"gini_04\",\"gini_05\",\"gini_06\"])\n",
    "# result.loc[0] = iris5data\n",
    "# result = result.rename({0:'iris5'})\n",
    "result.to_csv(\"results/result.csv\")"
   ]
  },
  {
   "cell_type": "code",
   "execution_count": 61,
   "metadata": {},
   "outputs": [],
   "source": [
    "def linkageScore(method, data, labels, k):\n",
    "    dataDistances = pairwise_distances(data, metric='euclidean')\n",
    "\n",
    "#     clusters = linkage(dataDistances, method=method)\n",
    "#     kClusters = cut_tree(clusters, [k]).flatten()\n",
    "    \n",
    "    agg = AgglomerativeClustering(n_clusters=k, linkage=method)\n",
    "    kClusters = agg.fit_predict(dataDistances)\n",
    "    resultLabels = labelClusters(kClusters, labels)\n",
    "    fmScore = fowlkes_mallows_score(labels, resultLabels)\n",
    "    return fmScore\n",
    "\n",
    "def computeScore(base):\n",
    "    result = pd.read_csv(\"results/result.csv\", index_col=0)\n",
    "    \n",
    "    data = pd.read_table(\"datasets/\"+base+\".data\", header=None, delim_whitespace=True)\n",
    "    labels = pd.read_table(\"labels/\"+base+\".labels\", header=None, delim_whitespace=True)\n",
    "    k = len(set(labels[0]))\n",
    "    \n",
    "    resultData = []\n",
    "    for i in range(1,7):\n",
    "        if (i==1):\n",
    "            resultData.append((genie2(data, labels, 1, k)))\n",
    "            methods = [\"complete\", \"ward\", \"average\"]\n",
    "            for method in methods:\n",
    "                resultData.append(linkageScore(method, data, labels[0], k))\n",
    "        else:\n",
    "            resultData.append((genie2(data, labels, i/10, k)))\n",
    "    \n",
    "    \n",
    "    size = len(result)\n",
    "    result.loc[size] = resultData\n",
    "    result = result.rename({size:base})\n",
    "    result.to_csv(\"results/result.csv\")"
   ]
  },
  {
   "cell_type": "code",
   "execution_count": null,
   "metadata": {},
   "outputs": [],
   "source": [
    "computeScore(\"a1\")\n",
    "#computeScore(\"Aggregation\")"
   ]
  },
  {
   "cell_type": "code",
   "execution_count": 77,
   "metadata": {},
   "outputs": [],
   "source": [
    "computeScore(\"Compound\")"
   ]
  },
  {
   "cell_type": "code",
   "execution_count": 76,
   "metadata": {},
   "outputs": [
    {
     "data": {
      "text/html": [
       "<div>\n",
       "<style scoped>\n",
       "    .dataframe tbody tr th:only-of-type {\n",
       "        vertical-align: middle;\n",
       "    }\n",
       "\n",
       "    .dataframe tbody tr th {\n",
       "        vertical-align: top;\n",
       "    }\n",
       "\n",
       "    .dataframe thead th {\n",
       "        text-align: right;\n",
       "    }\n",
       "</style>\n",
       "<table border=\"1\" class=\"dataframe\">\n",
       "  <thead>\n",
       "    <tr style=\"text-align: right;\">\n",
       "      <th></th>\n",
       "      <th>single</th>\n",
       "      <th>complete</th>\n",
       "      <th>ward</th>\n",
       "      <th>average</th>\n",
       "      <th>gini_02</th>\n",
       "      <th>gini_03</th>\n",
       "      <th>gini_04</th>\n",
       "      <th>gini_05</th>\n",
       "      <th>gini_06</th>\n",
       "    </tr>\n",
       "  </thead>\n",
       "  <tbody>\n",
       "    <tr>\n",
       "      <th>iris5</th>\n",
       "      <td>0.690548</td>\n",
       "      <td>0.642412</td>\n",
       "      <td>0.737836</td>\n",
       "      <td>0.655140</td>\n",
       "      <td>0.847264</td>\n",
       "      <td>0.847264</td>\n",
       "      <td>0.847264</td>\n",
       "      <td>0.885742</td>\n",
       "      <td>0.672866</td>\n",
       "    </tr>\n",
       "    <tr>\n",
       "      <th>iris</th>\n",
       "      <td>0.763517</td>\n",
       "      <td>0.743081</td>\n",
       "      <td>0.849796</td>\n",
       "      <td>0.849796</td>\n",
       "      <td>0.923434</td>\n",
       "      <td>0.923434</td>\n",
       "      <td>0.923434</td>\n",
       "      <td>0.753795</td>\n",
       "      <td>0.753795</td>\n",
       "    </tr>\n",
       "    <tr>\n",
       "      <th>jain</th>\n",
       "      <td>0.803783</td>\n",
       "      <td>0.717912</td>\n",
       "      <td>0.783654</td>\n",
       "      <td>0.910338</td>\n",
       "      <td>1.000000</td>\n",
       "      <td>1.000000</td>\n",
       "      <td>1.000000</td>\n",
       "      <td>1.000000</td>\n",
       "      <td>1.000000</td>\n",
       "    </tr>\n",
       "    <tr>\n",
       "      <th>flame</th>\n",
       "      <td>0.730024</td>\n",
       "      <td>0.732037</td>\n",
       "      <td>0.666356</td>\n",
       "      <td>0.730024</td>\n",
       "      <td>1.000000</td>\n",
       "      <td>1.000000</td>\n",
       "      <td>1.000000</td>\n",
       "      <td>1.000000</td>\n",
       "      <td>1.000000</td>\n",
       "    </tr>\n",
       "    <tr>\n",
       "      <th>R15</th>\n",
       "      <td>0.645799</td>\n",
       "      <td>0.966536</td>\n",
       "      <td>0.979881</td>\n",
       "      <td>0.986543</td>\n",
       "      <td>0.986585</td>\n",
       "      <td>0.986585</td>\n",
       "      <td>0.986585</td>\n",
       "      <td>0.833672</td>\n",
       "      <td>0.645799</td>\n",
       "    </tr>\n",
       "    <tr>\n",
       "      <th>spiral</th>\n",
       "      <td>1.000000</td>\n",
       "      <td>0.362340</td>\n",
       "      <td>0.421129</td>\n",
       "      <td>0.445392</td>\n",
       "      <td>1.000000</td>\n",
       "      <td>1.000000</td>\n",
       "      <td>1.000000</td>\n",
       "      <td>1.000000</td>\n",
       "      <td>1.000000</td>\n",
       "    </tr>\n",
       "    <tr>\n",
       "      <th>pathbased</th>\n",
       "      <td>0.573425</td>\n",
       "      <td>0.646776</td>\n",
       "      <td>0.652847</td>\n",
       "      <td>0.666374</td>\n",
       "      <td>0.751088</td>\n",
       "      <td>0.751088</td>\n",
       "      <td>0.751088</td>\n",
       "      <td>0.751088</td>\n",
       "      <td>0.751088</td>\n",
       "    </tr>\n",
       "  </tbody>\n",
       "</table>\n",
       "</div>"
      ],
      "text/plain": [
       "             single  complete      ward   average   gini_02   gini_03  \\\n",
       "iris5      0.690548  0.642412  0.737836  0.655140  0.847264  0.847264   \n",
       "iris       0.763517  0.743081  0.849796  0.849796  0.923434  0.923434   \n",
       "jain       0.803783  0.717912  0.783654  0.910338  1.000000  1.000000   \n",
       "flame      0.730024  0.732037  0.666356  0.730024  1.000000  1.000000   \n",
       "R15        0.645799  0.966536  0.979881  0.986543  0.986585  0.986585   \n",
       "spiral     1.000000  0.362340  0.421129  0.445392  1.000000  1.000000   \n",
       "pathbased  0.573425  0.646776  0.652847  0.666374  0.751088  0.751088   \n",
       "\n",
       "            gini_04   gini_05   gini_06  \n",
       "iris5      0.847264  0.885742  0.672866  \n",
       "iris       0.923434  0.753795  0.753795  \n",
       "jain       1.000000  1.000000  1.000000  \n",
       "flame      1.000000  1.000000  1.000000  \n",
       "R15        0.986585  0.833672  0.645799  \n",
       "spiral     1.000000  1.000000  1.000000  \n",
       "pathbased  0.751088  0.751088  0.751088  "
      ]
     },
     "execution_count": 76,
     "metadata": {},
     "output_type": "execute_result"
    }
   ],
   "source": [
    "result = pd.read_csv(\"results/result.csv\", index_col=0)\n",
    "result"
   ]
  },
  {
   "cell_type": "code",
   "execution_count": null,
   "metadata": {},
   "outputs": [],
   "source": []
  },
  {
   "cell_type": "code",
   "execution_count": null,
   "metadata": {},
   "outputs": [],
   "source": [
    "gini2(counting(unbalancelabels[0]))"
   ]
  },
  {
   "cell_type": "code",
   "execution_count": null,
   "metadata": {},
   "outputs": [],
   "source": []
  },
  {
   "cell_type": "code",
   "execution_count": null,
   "metadata": {},
   "outputs": [],
   "source": [
    "dataDistances = pairwise_distances(iris5,metric='euclidean')\n",
    "Z = linkage(dataDistances, 'ward')\n",
    "# plt.figure(figsize=(25, 10))\n",
    "# plt.title('Hierarchical Clustering Dendrogram')\n",
    "# plt.xlabel('sample index')\n",
    "# plt.ylabel('distance')\n",
    "# dendrogram(\n",
    "#     Z,\n",
    "#     leaf_rotation=90.,  # rotates the x axis labels\n",
    "#     leaf_font_size=8.,  # font size for the x axis labels\n",
    "# )\n",
    "# plt.show()\n",
    "\n",
    "Z = cut_tree(Z, n_clusters=[10,1])"
   ]
  },
  {
   "cell_type": "code",
   "execution_count": 42,
   "metadata": {},
   "outputs": [],
   "source": [
    "from sklearn.cluster import AgglomerativeClustering"
   ]
  },
  {
   "cell_type": "code",
   "execution_count": 46,
   "metadata": {},
   "outputs": [
    {
     "data": {
      "text/plain": [
       "array([3, 3, 3, 3, 3, 1, 1, 1, 0, 1, 1, 1, 0, 1, 0, 0, 1, 0, 1, 0, 1, 1,\n",
       "       0, 1, 0, 1, 0, 1, 1, 1, 1, 1, 2, 1, 0, 0, 0, 0, 1, 1, 1, 1, 1, 0,\n",
       "       0, 0, 1, 0, 0, 0, 0, 0, 1, 0, 0, 2, 1, 2, 2, 2, 4, 0, 4, 2, 4, 2,\n",
       "       2, 2, 1, 1, 2, 2, 4, 4, 1, 2, 1, 4, 1, 2, 2, 1, 1, 2, 2, 4, 4, 2,\n",
       "       1, 1, 4, 2, 2, 1, 2, 2, 2, 1, 2, 2, 2, 1, 2, 2, 1])"
      ]
     },
     "execution_count": 46,
     "metadata": {},
     "output_type": "execute_result"
    }
   ],
   "source": [
    "dataDistances = pairwise_distances(iris5, metric='euclidean')\n",
    "agg = AgglomerativeClustering(n_clusters=5, linkage='ward')\n",
    "l = agg.fit_predict(dataDistances)\n",
    "l"
   ]
  },
  {
   "cell_type": "code",
   "execution_count": null,
   "metadata": {},
   "outputs": [],
   "source": []
  }
 ],
 "metadata": {
  "kernelspec": {
   "display_name": "Python 3",
   "language": "python",
   "name": "python3"
  },
  "language_info": {
   "codemirror_mode": {
    "name": "ipython",
    "version": 3
   },
   "file_extension": ".py",
   "mimetype": "text/x-python",
   "name": "python",
   "nbconvert_exporter": "python",
   "pygments_lexer": "ipython3",
   "version": "3.6.4"
  }
 },
 "nbformat": 4,
 "nbformat_minor": 2
}
