{
 "cells": [
  {
   "cell_type": "code",
   "execution_count": 1,
   "metadata": {
    "collapsed": true
   },
   "outputs": [],
   "source": [
    "import numpy as np\n",
    "import pandas as pd"
   ]
  },
  {
   "cell_type": "code",
   "execution_count": 2,
   "metadata": {
    "collapsed": true
   },
   "outputs": [],
   "source": [
    "from scipy.spatial.distance import squareform, pdist"
   ]
  },
  {
   "cell_type": "code",
   "execution_count": 3,
   "metadata": {
    "collapsed": true
   },
   "outputs": [],
   "source": [
    "from scipy.sparse.csgraph import minimum_spanning_tree"
   ]
  },
  {
   "cell_type": "code",
   "execution_count": 4,
   "metadata": {
    "collapsed": true
   },
   "outputs": [],
   "source": [
    "from scipy.cluster.hierarchy import dendrogram, linkage\n",
    "from matplotlib import pyplot as plt"
   ]
  },
  {
   "cell_type": "code",
   "execution_count": 5,
   "metadata": {
    "collapsed": true
   },
   "outputs": [],
   "source": [
    "import sys"
   ]
  },
  {
   "cell_type": "code",
   "execution_count": 6,
   "metadata": {
    "collapsed": true
   },
   "outputs": [],
   "source": [
    "from sklearn.metrics.pairwise import pairwise_distances"
   ]
  },
  {
   "cell_type": "code",
   "execution_count": 7,
   "metadata": {
    "collapsed": true
   },
   "outputs": [],
   "source": [
    "from sklearn.metrics import f1_score"
   ]
  },
  {
   "cell_type": "code",
   "execution_count": 8,
   "metadata": {
    "collapsed": true
   },
   "outputs": [],
   "source": [
    "def labelClusters(clusters, target):\n",
    "    mySet = set(clusters)\n",
    "    resultList = []\n",
    "    for i in mySet:\n",
    "        myClasses = []\n",
    "        for j in range(len(clusters)):\n",
    "            if (clusters[j] == i):\n",
    "                myClasses.append(target[j]) \n",
    "        resultList.append(max(set(myClasses), key=myClasses.count))\n",
    "    \n",
    "    mySetArray = []\n",
    "    for i in mySet:\n",
    "        mySetArray.append(i)\n",
    "        \n",
    "    labels = []\n",
    "        \n",
    "    for i in range(len(clusters)):\n",
    "        for j in range(len(mySetArray)):\n",
    "            if (clusters[i] == mySetArray[j]):\n",
    "                labels.append(resultList[j])\n",
    "    return labels"
   ]
  },
  {
   "cell_type": "code",
   "execution_count": 9,
   "metadata": {
    "collapsed": true
   },
   "outputs": [],
   "source": [
    "def gini(x):\n",
    "    # (Warning: This is a concise implementation, but it is O(n**2)\n",
    "    # in time and memory, where n = len(x).  *Don't* pass in huge\n",
    "    # samples!)\n",
    "\n",
    "    # Mean absolute difference\n",
    "    mad = np.abs(np.subtract.outer(x, x)).mean()\n",
    "    # Relative mean absolute difference\n",
    "    rmad = mad/np.mean(x)\n",
    "    # Gini coefficient\n",
    "    g = 0.5 * rmad\n",
    "    return g"
   ]
  },
  {
   "cell_type": "code",
   "execution_count": 10,
   "metadata": {
    "collapsed": true
   },
   "outputs": [],
   "source": [
    "def counting(arr):\n",
    "    mySet = set(arr)\n",
    "    myList = []\n",
    "    myNewSet = []\n",
    "    for i in mySet:\n",
    "        myNewSet.append(i)\n",
    "        \n",
    "    for i in range(len(myNewSet)):\n",
    "        myList.append(0)\n",
    "        for j in arr:\n",
    "            if (myNewSet[i]==j):\n",
    "                myList[i] += 1\n",
    "    return myList"
   ]
  },
  {
   "cell_type": "code",
   "execution_count": 11,
   "metadata": {
    "collapsed": true
   },
   "outputs": [],
   "source": [
    "def menorCluster(clusters):\n",
    "    mySet = set(clusters)\n",
    "    minimo = len(clusters)\n",
    "    menor = len(clusters)\n",
    "    for i in mySet:\n",
    "        if((clusters.count(i)) < minimo):\n",
    "            minimo = clusters.count(i)\n",
    "            menor = i\n",
    "            \n",
    "    myList = []\n",
    "    \n",
    "    for j in range(len(clusters)):\n",
    "        if(clusters[j]==menor):\n",
    "            myList.append(j)\n",
    "            \n",
    "    return myList"
   ]
  },
  {
   "cell_type": "code",
   "execution_count": 19,
   "metadata": {
    "collapsed": true
   },
   "outputs": [],
   "source": [
    "def genieLinkage(data, limiar, clusterNumber):\n",
    "    \n",
    "    clusters = {}\n",
    "    row_index = 0\n",
    "    col_index = 0\n",
    "    array = []\n",
    "    \n",
    "\n",
    "    for n in range(data.shape[0]):\n",
    "        array.append(n)\n",
    "    \n",
    "        \n",
    "    clusters[0] = array.copy()\n",
    "\n",
    "    #finding minimum value from the distance matrix\n",
    "    #note that this loop will always return minimum value from bottom triangle of matrix\n",
    "    for k in range(1, data.shape[0]):\n",
    "        min_val = sys.maxsize\n",
    "        \n",
    "        if(gini(counting(clusters[k-1])) <= limiar):\n",
    "            for i in range(0, data.shape[0]):\n",
    "                for j in range(i, data.shape[1]):\n",
    "                    if(data[i][j]<min_val):\n",
    "                        min_val = data[i][j]\n",
    "                        row_index = i\n",
    "                        col_index = j\n",
    "        else:\n",
    "            iList = menorCluster(clusters[k-1])\n",
    "            for i in iList:\n",
    "                for j in range(0, data.shape[0]):\n",
    "                    if(j not in iList):\n",
    "                        if(data[i][j]<min_val):\n",
    "                            min_val = data[i][j]\n",
    "                            row_index = i\n",
    "                            col_index = j\n",
    "\n",
    "        array = clusters[k-1].copy()\n",
    "        minimum = min(array[row_index],array[col_index])\n",
    "        maximum = max(array[row_index],array[col_index])\n",
    "        \n",
    "        for n in range(len(array)):\n",
    "            if(array[n]==maximum):\n",
    "                array[n] = minimum\n",
    "        clusters[k] = array.copy()\n",
    "        \n",
    "        for i in range(len(array)):\n",
    "            for j in range(len(array)):\n",
    "                if(array[i]==array[j]):\n",
    "                    data[i][j] = sys.maxsize\n",
    "                    \n",
    "        if (len(set(clusters[k])) == clusterNumber):\n",
    "            return clusters[k]"
   ]
  },
  {
   "cell_type": "code",
   "execution_count": 43,
   "metadata": {},
   "outputs": [
    {
     "data": {
      "text/plain": [
       "[[0, 1, 'f'], [4, 2, 't'], [9, 4, 'afsd']]"
      ]
     },
     "execution_count": 43,
     "metadata": {},
     "output_type": "execute_result"
    }
   ],
   "source": [
    "l = [[0, 1, 'f'], [4, 2, 't'], [9, 4, 'afsd']]\n",
    "l.sort(key=lambda x: x[0])\n",
    "l"
   ]
  },
  {
   "cell_type": "code",
   "execution_count": 49,
   "metadata": {
    "collapsed": true
   },
   "outputs": [],
   "source": [
    "def genieLinkage2(data, limiar, clusterNumber):\n",
    "    \n",
    "    clusters = {}\n",
    "    row_index = 0\n",
    "    col_index = 0\n",
    "    array = []\n",
    "    \n",
    "\n",
    "    for n in range(data.shape[0]):\n",
    "        array.append(n)\n",
    "    \n",
    "        \n",
    "    clusters[0] = array.copy()\n",
    "    \n",
    "    dists = []\n",
    "    \n",
    "    for i in range(0, data.shape[0]):\n",
    "        for j in range(i, data.shape[1]):\n",
    "            dists.append(([data[i][j], i, j]))\n",
    "    \n",
    "    dists.sort(key=lambda x: x[0])\n",
    "    pos = 0\n",
    "\n",
    "    #finding minimum value from the distance matrix\n",
    "    #note that this loop will always return minimum value from bottom triangle of matrix\n",
    "    for k in range(1, data.shape[0]):\n",
    "        min_val = sys.maxsize\n",
    "        \n",
    "        if(gini(counting(clusters[k-1])) <= limiar):\n",
    "            for i in range(pos, len(dists)):\n",
    "                if(dists[i][0] == data[dists[i][1]][dists[i][2]]):\n",
    "                    pos = i\n",
    "                    min_val = dists[i][0]\n",
    "                    row_index = dists[i][1]\n",
    "                    col_index = dists[i][2]\n",
    "                    break\n",
    "        else:\n",
    "            iList = menorCluster(clusters[k-1])\n",
    "            for i in iList:\n",
    "                for j in range(0, data.shape[0]):\n",
    "                    if(j not in iList):\n",
    "                        if(data[i][j]<min_val):\n",
    "                            min_val = data[i][j]\n",
    "                            row_index = i\n",
    "                            col_index = j\n",
    "\n",
    "        array = clusters[k-1].copy()\n",
    "        minimum = min(array[row_index],array[col_index])\n",
    "        maximum = max(array[row_index],array[col_index])\n",
    "        \n",
    "        for n in range(len(array)):\n",
    "            if(array[n]==maximum):\n",
    "                array[n] = minimum\n",
    "        clusters[k] = array.copy()\n",
    "        \n",
    "        for i in range(len(array)):\n",
    "            for j in range(len(array)):\n",
    "                if(array[i]==array[j]):\n",
    "                    data[i][j] = sys.maxsize\n",
    "                    \n",
    "        if (len(set(clusters[k])) == clusterNumber):\n",
    "            return clusters[k]\n",
    "        "
   ]
  },
  {
   "cell_type": "code",
   "execution_count": 13,
   "metadata": {
    "collapsed": true
   },
   "outputs": [],
   "source": [
    "def genie(dataset, target, limiar, clusterNumber):\n",
    "    \n",
    "#     dataX = dataset.loc[:,dataset.columns[:-1]].values\n",
    "#     dataY = dataset.loc[:,[dataset.columns[-1]]].values\n",
    "    dataX = dataset.values\n",
    "    dataY = target[0]\n",
    "    \n",
    "    dataDistances = pairwise_distances(dataX,metric='euclidean')\n",
    "    #making all the diagonal elements infinity \n",
    "    np.fill_diagonal(dataDistances,sys.maxsize)\n",
    "    \n",
    "    clusters = genieLinkage(dataDistances, limiar, clusterNumber)\n",
    "    \n",
    "    labels = labelClusters(clusters, dataY)\n",
    "    \n",
    "    fmScore = f1_score(dataY, labels, average='micro')\n",
    "    \n",
    "    return fmScore"
   ]
  },
  {
   "cell_type": "code",
   "execution_count": 31,
   "metadata": {
    "collapsed": true
   },
   "outputs": [],
   "source": [
    "def genie2(dataset, target, limiar, clusterNumber):\n",
    "    \n",
    "#     dataX = dataset.loc[:,dataset.columns[:-1]].values\n",
    "#     dataY = dataset.loc[:,[dataset.columns[-1]]].values\n",
    "    dataX = dataset.values\n",
    "    dataY = target[0]\n",
    "    \n",
    "    dataDistances = pairwise_distances(dataX,metric='euclidean')\n",
    "    #making all the diagonal elements infinity \n",
    "    np.fill_diagonal(dataDistances,sys.maxsize)\n",
    "    \n",
    "    clusters = genieLinkage2(dataDistances, limiar, clusterNumber)\n",
    "    \n",
    "    labels = labelClusters(clusters, dataY)\n",
    "    \n",
    "    fmScore = f1_score(dataY, labels, average='micro')\n",
    "    \n",
    "    return fmScore"
   ]
  },
  {
   "cell_type": "code",
   "execution_count": 16,
   "metadata": {
    "collapsed": true
   },
   "outputs": [],
   "source": [
    "a1 = pd.read_table(\"datasets/a1.data\", header=None, delim_whitespace=True)\n",
    "iris5 = pd.read_table(\"datasets/iris5.data\", header=None, delim_whitespace=True)\n",
    "flame = pd.read_table(\"datasets/flame.data\", header=None, delim_whitespace=True)\n",
    "pathbased = pd.read_table(\"datasets/pathbased.data\", header=None, delim_whitespace=True)\n",
    "unbalance = pd.read_table(\"datasets/unbalance.data\", header=None, delim_whitespace=True)"
   ]
  },
  {
   "cell_type": "code",
   "execution_count": 17,
   "metadata": {
    "collapsed": true
   },
   "outputs": [],
   "source": [
    "a1labels = pd.read_table(\"labels/a1.labels\", header=None, delim_whitespace=True)\n",
    "iris5labels = pd.read_table(\"labels/iris5.labels\", header=None, delim_whitespace=True)\n",
    "flamelabels = pd.read_table(\"labels/flame.labels\", header=None, delim_whitespace=True)\n",
    "pathbasedlabels = pd.read_table(\"labels/pathbased.labels\", header=None, delim_whitespace=True)\n",
    "unbalancelabels = pd.read_table(\"labels/unbalance.labels\", header=None, delim_whitespace=True)"
   ]
  },
  {
   "cell_type": "code",
   "execution_count": 26,
   "metadata": {},
   "outputs": [],
   "source": [
    "import time"
   ]
  },
  {
   "cell_type": "code",
   "execution_count": 29,
   "metadata": {},
   "outputs": [
    {
     "name": "stdout",
     "output_type": "stream",
     "text": [
      "0.895238095238\n",
      "0.3586111068725586\n"
     ]
    }
   ],
   "source": [
    "t1 = time.time()\n",
    "print(genie(iris5, iris5labels, 0.3, 3))\n",
    "t2 = time.time()\n",
    "print(t2 - t1)"
   ]
  },
  {
   "cell_type": "code",
   "execution_count": 51,
   "metadata": {},
   "outputs": [
    {
     "name": "stdout",
     "output_type": "stream",
     "text": [
      "0.895238095238\n",
      "0.23567605018615723\n"
     ]
    }
   ],
   "source": [
    "t1 = time.time()\n",
    "print(genie2(iris5, iris5labels, 0.3, 3))\n",
    "t2 = time.time()\n",
    "print(t2 - t1)"
   ]
  },
  {
   "cell_type": "code",
   "execution_count": 56,
   "metadata": {},
   "outputs": [
    {
     "name": "stdout",
     "output_type": "stream",
     "text": [
      "0.823333333333\n",
      "9.737985134124756\n"
     ]
    }
   ],
   "source": [
    "t1 = time.time()\n",
    "print(genie(pathbased, pathbasedlabels, 0.6, 3))\n",
    "t2 = time.time()\n",
    "print(t2 - t1)"
   ]
  },
  {
   "cell_type": "code",
   "execution_count": 57,
   "metadata": {},
   "outputs": [
    {
     "name": "stdout",
     "output_type": "stream",
     "text": [
      "0.823333333333\n",
      "4.458505868911743\n"
     ]
    }
   ],
   "source": [
    "t1 = time.time()\n",
    "print(genie2(pathbased, pathbasedlabels, 0.6, 3))\n",
    "t2 = time.time()\n",
    "print(t2 - t1)"
   ]
  },
  {
   "cell_type": "code",
   "execution_count": 74,
   "metadata": {},
   "outputs": [
    {
     "data": {
      "text/plain": [
       "[0.54285714285714282,\n",
       " 0.89523809523809528,\n",
       " 0.89523809523809528,\n",
       " 0.89523809523809528,\n",
       " 0.5714285714285714,\n",
       " 0.5714285714285714]"
      ]
     },
     "execution_count": 74,
     "metadata": {},
     "output_type": "execute_result"
    }
   ],
   "source": [
    "iris5data = []\n",
    "for i in range(1,7):\n",
    "    if (i==1):\n",
    "        iris5data.append((genie2(iris5, iris5labels, 1, 3)))\n",
    "    else:\n",
    "        iris5data.append((genie2(iris5, iris5labels, i/10, 3)))\n",
    "iris5data"
   ]
  },
  {
   "cell_type": "code",
   "execution_count": 101,
   "metadata": {},
   "outputs": [],
   "source": [
    "# só executar da primeira vez\n",
    "\n",
    "# result = pd.DataFrame(columns = [\"single\",\"gini_02\",\"gini_03\",\"gini_04\",\"gini_05\",\"gini_06\"])\n",
    "# result.loc[0] = iris5data\n",
    "# result = result.rename({0:'iris5'})\n",
    "# result.to_csv(\"results/result.csv\")"
   ]
  },
  {
   "cell_type": "code",
   "execution_count": 103,
   "metadata": {
    "collapsed": true
   },
   "outputs": [],
   "source": [
    "def computeScore(base):\n",
    "    result = pd.read_csv(\"results/result.csv\", index_col=0)\n",
    "    \n",
    "    data = pd.read_table(\"datasets/\"+base+\".data\", header=None, delim_whitespace=True)\n",
    "    labels = pd.read_table(\"labels/\"+base+\".labels\", header=None, delim_whitespace=True)\n",
    "    k = len(set(labels[0]))\n",
    "    \n",
    "    resultData = []\n",
    "    for i in range(1,7):\n",
    "        if (i==1):\n",
    "            resultData.append((genie2(data, labels, 1, k)))\n",
    "        else:\n",
    "            resultData.append((genie2(data, labels, i/10, k)))\n",
    "    \n",
    "    size = len(result)\n",
    "    result.loc[size] = resultData\n",
    "    result = result.rename({size:base})\n",
    "    result.to_csv(\"results/result.csv\")"
   ]
  },
  {
   "cell_type": "code",
   "execution_count": 104,
   "metadata": {},
   "outputs": [],
   "source": [
    "computeScore(\"iris\")"
   ]
  },
  {
   "cell_type": "code",
   "execution_count": 108,
   "metadata": {},
   "outputs": [
    {
     "data": {
      "text/html": [
       "<div>\n",
       "<style>\n",
       "    .dataframe thead tr:only-child th {\n",
       "        text-align: right;\n",
       "    }\n",
       "\n",
       "    .dataframe thead th {\n",
       "        text-align: left;\n",
       "    }\n",
       "\n",
       "    .dataframe tbody tr th {\n",
       "        vertical-align: top;\n",
       "    }\n",
       "</style>\n",
       "<table border=\"1\" class=\"dataframe\">\n",
       "  <thead>\n",
       "    <tr style=\"text-align: right;\">\n",
       "      <th></th>\n",
       "      <th>single</th>\n",
       "      <th>gini_02</th>\n",
       "      <th>gini_03</th>\n",
       "      <th>gini_04</th>\n",
       "      <th>gini_05</th>\n",
       "      <th>gini_06</th>\n",
       "    </tr>\n",
       "  </thead>\n",
       "  <tbody>\n",
       "    <tr>\n",
       "      <th>iris5</th>\n",
       "      <td>0.542857</td>\n",
       "      <td>0.895238</td>\n",
       "      <td>0.895238</td>\n",
       "      <td>0.895238</td>\n",
       "      <td>0.571429</td>\n",
       "      <td>0.571429</td>\n",
       "    </tr>\n",
       "    <tr>\n",
       "      <th>iris</th>\n",
       "      <td>0.680000</td>\n",
       "      <td>0.960000</td>\n",
       "      <td>0.960000</td>\n",
       "      <td>0.960000</td>\n",
       "      <td>0.700000</td>\n",
       "      <td>0.693333</td>\n",
       "    </tr>\n",
       "    <tr>\n",
       "      <th>Aggregation</th>\n",
       "      <td>0.827411</td>\n",
       "      <td>0.790609</td>\n",
       "      <td>0.847716</td>\n",
       "      <td>0.870558</td>\n",
       "      <td>0.911168</td>\n",
       "      <td>0.827411</td>\n",
       "    </tr>\n",
       "  </tbody>\n",
       "</table>\n",
       "</div>"
      ],
      "text/plain": [
       "               single   gini_02   gini_03   gini_04   gini_05   gini_06\n",
       "iris5        0.542857  0.895238  0.895238  0.895238  0.571429  0.571429\n",
       "iris         0.680000  0.960000  0.960000  0.960000  0.700000  0.693333\n",
       "Aggregation  0.827411  0.790609  0.847716  0.870558  0.911168  0.827411"
      ]
     },
     "execution_count": 108,
     "metadata": {},
     "output_type": "execute_result"
    }
   ],
   "source": [
    "result = pd.read_csv(\"results/result.csv\", index_col=0)\n",
    "result"
   ]
  },
  {
   "cell_type": "code",
   "execution_count": 107,
   "metadata": {},
   "outputs": [],
   "source": [
    "computeScore(\"Aggregation\")"
   ]
  },
  {
   "cell_type": "code",
   "execution_count": null,
   "metadata": {
    "collapsed": true
   },
   "outputs": [],
   "source": []
  }
 ],
 "metadata": {
  "kernelspec": {
   "display_name": "Python 3",
   "language": "python",
   "name": "python3"
  },
  "language_info": {
   "codemirror_mode": {
    "name": "ipython",
    "version": 3
   },
   "file_extension": ".py",
   "mimetype": "text/x-python",
   "name": "python",
   "nbconvert_exporter": "python",
   "pygments_lexer": "ipython3",
   "version": "3.6.1"
  }
 },
 "nbformat": 4,
 "nbformat_minor": 2
}
