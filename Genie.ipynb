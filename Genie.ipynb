{
 "cells": [
  {
   "cell_type": "code",
   "execution_count": 1,
   "metadata": {},
   "outputs": [],
   "source": [
    "import numpy as np\n",
    "import pandas as pd"
   ]
  },
  {
   "cell_type": "code",
   "execution_count": 2,
   "metadata": {},
   "outputs": [],
   "source": [
    "from scipy.spatial.distance import squareform, pdist"
   ]
  },
  {
   "cell_type": "code",
   "execution_count": 3,
   "metadata": {},
   "outputs": [],
   "source": [
    "from scipy.sparse.csgraph import minimum_spanning_tree"
   ]
  },
  {
   "cell_type": "code",
   "execution_count": 4,
   "metadata": {},
   "outputs": [],
   "source": [
    "from scipy.cluster.hierarchy import dendrogram, linkage\n",
    "from matplotlib import pyplot as plt"
   ]
  },
  {
   "cell_type": "code",
   "execution_count": 5,
   "metadata": {},
   "outputs": [],
   "source": [
    "import sys"
   ]
  },
  {
   "cell_type": "code",
   "execution_count": 6,
   "metadata": {},
   "outputs": [],
   "source": [
    "from sklearn.metrics.pairwise import pairwise_distances"
   ]
  },
  {
   "cell_type": "code",
   "execution_count": 7,
   "metadata": {},
   "outputs": [],
   "source": [
    "from sklearn.metrics import f1_score"
   ]
  },
  {
   "cell_type": "code",
   "execution_count": 8,
   "metadata": {},
   "outputs": [],
   "source": [
    "from sklearn.metrics.cluster import fowlkes_mallows_score"
   ]
  },
  {
   "cell_type": "code",
   "execution_count": 9,
   "metadata": {},
   "outputs": [],
   "source": [
    "from sklearn.neighbors import KNeighborsClassifier\n",
    "from scipy.cluster.hierarchy import linkage\n",
    "from scipy.cluster.hierarchy import fcluster\n",
    "from scipy.cluster.hierarchy import cut_tree"
   ]
  },
  {
   "cell_type": "code",
   "execution_count": 10,
   "metadata": {},
   "outputs": [],
   "source": [
    "from sklearn.cluster import AgglomerativeClustering"
   ]
  },
  {
   "cell_type": "code",
   "execution_count": 11,
   "metadata": {},
   "outputs": [],
   "source": [
    "def labelClusters(clusters, target):\n",
    "    mySet = set(clusters)\n",
    "    resultList = []\n",
    "    for i in mySet:\n",
    "        myClasses = []\n",
    "        for j in range(len(clusters)):\n",
    "            if (clusters[j] == i):\n",
    "                myClasses.append(target[j])\n",
    "        resultList.append(max(set(myClasses), key=myClasses.count))\n",
    "    \n",
    "    mySetArray = []\n",
    "    for i in mySet:\n",
    "        mySetArray.append(i)\n",
    "        \n",
    "    labels = []  \n",
    "    for i in range(len(clusters)):\n",
    "        for j in range(len(mySetArray)):\n",
    "            if (clusters[i] == mySetArray[j]):\n",
    "                labels.append(resultList[j])\n",
    "    return labels"
   ]
  },
  {
   "cell_type": "code",
   "execution_count": 12,
   "metadata": {},
   "outputs": [],
   "source": [
    "def gini2(arr):\n",
    "    \n",
    "    somai = 0\n",
    "    somatot = arr[-1]\n",
    "    for i in range(len(arr)-1):\n",
    "        somaj = 0\n",
    "        for j in range(i+1, len(arr)):\n",
    "            somaj += abs(arr[i] - arr[j])\n",
    "        somai += somaj\n",
    "        somatot += arr[i]\n",
    "    mult = (len(arr) - 1) * somatot\n",
    "    \n",
    "    return (somai/mult)"
   ]
  },
  {
   "cell_type": "code",
   "execution_count": 13,
   "metadata": {},
   "outputs": [],
   "source": [
    "def counting(arr):\n",
    "    mySet = set(arr)\n",
    "    myList = []\n",
    "    myNewSet = []\n",
    "    for i in mySet:\n",
    "        myNewSet.append(i)\n",
    "        \n",
    "    for i in range(len(myNewSet)):\n",
    "        myList.append(0)\n",
    "        for j in arr:\n",
    "            if (myNewSet[i]==j):\n",
    "                myList[i] += 1\n",
    "    return myList"
   ]
  },
  {
   "cell_type": "code",
   "execution_count": 14,
   "metadata": {},
   "outputs": [],
   "source": [
    "def menorCluster(clusters):\n",
    "    mySet = set(clusters)\n",
    "    minimo = len(clusters)\n",
    "    \n",
    "    for i in mySet:\n",
    "        if((clusters.count(i)) < minimo):\n",
    "            minimo = clusters.count(i)\n",
    "            \n",
    "    myList = []\n",
    "    \n",
    "    for j in range(len(clusters)):\n",
    "        if(clusters.count(clusters[j])==minimo):\n",
    "            myList.append(j)\n",
    "            \n",
    "    return myList"
   ]
  },
  {
   "cell_type": "code",
   "execution_count": 15,
   "metadata": {},
   "outputs": [],
   "source": [
    "def genieLinkage2(data, limiar, clusterNumber):\n",
    "    \n",
    "    clusters = {}\n",
    "    row_index = 0\n",
    "    col_index = 0\n",
    "    array = []\n",
    "    \n",
    "\n",
    "    for n in range(data.shape[0]):\n",
    "        array.append(n)\n",
    "    \n",
    "        \n",
    "    clusters[0] = array.copy()\n",
    "    \n",
    "    dists = []\n",
    "    \n",
    "    for i in range(0, data.shape[0]):\n",
    "        for j in range(i, data.shape[1]):\n",
    "            dists.append(([data[i][j], i, j]))\n",
    "    \n",
    "    dists.sort(key=lambda x: x[0])\n",
    "    pos = 0\n",
    "\n",
    "    for k in range(1, data.shape[0]):\n",
    "        min_val = sys.maxsize\n",
    "        \n",
    "        if(gini2(counting(clusters[k-1])) <= limiar):\n",
    "            for i in range(pos, len(dists)):\n",
    "                if(dists[i][0] == data[dists[i][1]][dists[i][2]]):\n",
    "                    pos = i\n",
    "                    min_val = dists[i][0]\n",
    "                    row_index = dists[i][1]\n",
    "                    col_index = dists[i][2]\n",
    "                    break\n",
    "        else:\n",
    "            iList = menorCluster(clusters[k-1])\n",
    "            for i in iList:\n",
    "                for j in range(0, data.shape[0]):\n",
    "                    if(data[i][j]<min_val):\n",
    "                        min_val = data[i][j]\n",
    "                        row_index = i\n",
    "                        col_index = j\n",
    "\n",
    "        array = clusters[k-1].copy()\n",
    "        minimum = min(array[row_index],array[col_index])\n",
    "        maximum = max(array[row_index],array[col_index])\n",
    "        \n",
    "        for n in range(len(array)):\n",
    "            if(array[n]==maximum):\n",
    "                array[n] = minimum\n",
    "        clusters[k] = array.copy()\n",
    "        \n",
    "        for i in range(len(array)):\n",
    "            for j in range(len(array)):\n",
    "                if(array[i]==array[j]):\n",
    "                    data[i][j] = sys.maxsize\n",
    "                    \n",
    "        if (len(set(clusters[k])) == clusterNumber):\n",
    "            return clusters[k]"
   ]
  },
  {
   "cell_type": "code",
   "execution_count": 16,
   "metadata": {},
   "outputs": [],
   "source": [
    "def genie2(dataset, target, limiar, clusterNumber):\n",
    "\n",
    "    dataX = dataset.values\n",
    "    dataY = target[0]\n",
    "    \n",
    "    dataDistances = pairwise_distances(dataX,metric='euclidean')\n",
    "    np.fill_diagonal(dataDistances,sys.maxsize)\n",
    "    \n",
    "    clusters = genieLinkage2(dataDistances, limiar, clusterNumber)\n",
    "    \n",
    "    labels = labelClusters(clusters, dataY)\n",
    "    \n",
    "    fmScore = fowlkes_mallows_score(dataY, labels)\n",
    "    \n",
    "    return fmScore"
   ]
  },
  {
   "cell_type": "code",
   "execution_count": 17,
   "metadata": {},
   "outputs": [],
   "source": [
    "a1 = pd.read_table(\"datasets/a1.data\", header=None, delim_whitespace=True)\n",
    "iris5 = pd.read_table(\"datasets/iris5.data\", header=None, delim_whitespace=True)\n",
    "flame = pd.read_table(\"datasets/flame.data\", header=None, delim_whitespace=True)\n",
    "pathbased = pd.read_table(\"datasets/pathbased.data\", header=None, delim_whitespace=True)\n",
    "unbalance = pd.read_table(\"datasets/unbalance.data\", header=None, delim_whitespace=True)"
   ]
  },
  {
   "cell_type": "code",
   "execution_count": 18,
   "metadata": {},
   "outputs": [],
   "source": [
    "a1labels = pd.read_table(\"labels/a1.labels\", header=None, delim_whitespace=True)\n",
    "iris5labels = pd.read_table(\"labels/iris5.labels\", header=None, delim_whitespace=True)\n",
    "flamelabels = pd.read_table(\"labels/flame.labels\", header=None, delim_whitespace=True)\n",
    "pathbasedlabels = pd.read_table(\"labels/pathbased.labels\", header=None, delim_whitespace=True)\n",
    "unbalancelabels = pd.read_table(\"labels/unbalance.labels\", header=None, delim_whitespace=True)"
   ]
  },
  {
   "cell_type": "code",
   "execution_count": 19,
   "metadata": {},
   "outputs": [],
   "source": [
    "#só executar para limpar os results\n",
    "\n",
    "result = pd.DataFrame(columns = [\"single\",\"complete\", \"ward\", \"average\",\"gini_02\",\"gini_03\",\"gini_04\",\"gini_05\",\"gini_06\"])\n",
    "result.to_csv(\"results/result.csv\")"
   ]
  },
  {
   "cell_type": "code",
   "execution_count": 20,
   "metadata": {},
   "outputs": [],
   "source": [
    "def linkageScore(method, data, labels, k):\n",
    "    dataDistances = pairwise_distances(data, metric='euclidean')\n",
    "    agg = AgglomerativeClustering(n_clusters=k, linkage=method)\n",
    "    kClusters = agg.fit_predict(dataDistances)\n",
    "    resultLabels = labelClusters(kClusters, labels)\n",
    "    fmScore = fowlkes_mallows_score(labels, resultLabels)\n",
    "    return fmScore\n",
    "\n",
    "def computeScore(base):\n",
    "    result = pd.read_csv(\"results/result.csv\", index_col=0)\n",
    "    \n",
    "    done = 0\n",
    "    for name in result.index:\n",
    "        if (name==base):\n",
    "            done = 1\n",
    "    \n",
    "    if(done==0):\n",
    "        data = pd.read_table(\"datasets/\"+base+\".data\", header=None, delim_whitespace=True)\n",
    "        labels = pd.read_table(\"labels/\"+base+\".labels\", header=None, delim_whitespace=True)\n",
    "        k = len(set(labels[0]))\n",
    "\n",
    "        resultData = []\n",
    "        for i in range(1,7):\n",
    "            if (i==1):\n",
    "                resultData.append((genie2(data, labels, 1, k)))\n",
    "                methods = [\"complete\", \"ward\", \"average\"]\n",
    "                for method in methods:\n",
    "                    resultData.append(linkageScore(method, data, labels[0], k))\n",
    "            else:\n",
    "                resultData.append((genie2(data, labels, i/10, k)))\n",
    "\n",
    "\n",
    "        size = len(result)\n",
    "        result.loc[size] = resultData\n",
    "        result = result.rename({size:base})\n",
    "        result.to_csv(\"results/result.csv\")"
   ]
  },
  {
   "cell_type": "code",
   "execution_count": 21,
   "metadata": {},
   "outputs": [],
   "source": [
    "computeScore(\"flame\")\n",
    "# computeScore(\"jain\")\n",
    "# computeScore(\"flame\")\n",
    "# computeScore(\"R15\")\n",
    "# computeScore(\"spiral\")\n",
    "# computeScore(\"pathbased\")\n",
    "# computeScore(\"Compound\")\n",
    "# computeScore(\"Aggregation\")\n",
    "# computeScore(\"g2-2-100\")"
   ]
  },
  {
   "cell_type": "code",
   "execution_count": null,
   "metadata": {},
   "outputs": [],
   "source": [
    "result = pd.read_csv(\"results/result.csv\", index_col=0)\n",
    "result"
   ]
  },
  {
   "cell_type": "code",
   "execution_count": null,
   "metadata": {},
   "outputs": [],
   "source": [
    "a = pd.concat([iris5, iris5labels], axis=1)\n",
    "print('iris5')\n",
    "result = {}\n",
    "for i in range(10):\n",
    "    b = a.sample(frac=1)\n",
    "    c = b.iloc[:, :-1]\n",
    "    d = b.iloc[:, -1:]\n",
    "    k = len(set(d[0]))\n",
    "    print('complete ', linkageScore(\"complete\", c, d[0], k),'ward ', linkageScore('ward', c, d[0], k),'average ', linkageScore('average', c, d[0], k))"
   ]
  },
  {
   "cell_type": "code",
   "execution_count": null,
   "metadata": {},
   "outputs": [],
   "source": []
  }
 ],
 "metadata": {
  "kernelspec": {
   "display_name": "Python 3",
   "language": "python",
   "name": "python3"
  },
  "language_info": {
   "codemirror_mode": {
    "name": "ipython",
    "version": 3
   },
   "file_extension": ".py",
   "mimetype": "text/x-python",
   "name": "python",
   "nbconvert_exporter": "python",
   "pygments_lexer": "ipython3",
   "version": "3.6.4"
  }
 },
 "nbformat": 4,
 "nbformat_minor": 2
}
