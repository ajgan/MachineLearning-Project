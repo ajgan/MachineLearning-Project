{
 "cells": [
  {
   "cell_type": "code",
   "execution_count": 1,
   "metadata": {
    "collapsed": true
   },
   "outputs": [],
   "source": [
    "import numpy as np\n",
    "import pandas as pd"
   ]
  },
  {
   "cell_type": "code",
   "execution_count": 15,
   "metadata": {
    "collapsed": true
   },
   "outputs": [],
   "source": [
    "lenses = pd.read_csv('lenses.csv')"
   ]
  },
  {
   "cell_type": "code",
   "execution_count": 16,
   "metadata": {
    "collapsed": true
   },
   "outputs": [],
   "source": [
    "from scipy.spatial.distance import squareform, pdist"
   ]
  },
  {
   "cell_type": "code",
   "execution_count": 17,
   "metadata": {
    "collapsed": true
   },
   "outputs": [],
   "source": [
    "from scipy.sparse.csgraph import minimum_spanning_tree"
   ]
  },
  {
   "cell_type": "code",
   "execution_count": 21,
   "metadata": {
    "collapsed": true
   },
   "outputs": [],
   "source": [
    "from scipy.cluster.hierarchy import dendrogram, linkage\n",
    "from matplotlib import pyplot as plt"
   ]
  },
  {
   "cell_type": "code",
   "execution_count": 77,
   "metadata": {
    "collapsed": true
   },
   "outputs": [],
   "source": [
    "import sys"
   ]
  },
  {
   "cell_type": "code",
   "execution_count": 88,
   "metadata": {
    "collapsed": true
   },
   "outputs": [],
   "source": [
    "from sklearn.metrics.pairwise import pairwise_distances"
   ]
  },
  {
   "cell_type": "code",
   "execution_count": 137,
   "metadata": {
    "collapsed": true
   },
   "outputs": [],
   "source": [
    "def gini(x):\n",
    "    # (Warning: This is a concise implementation, but it is O(n**2)\n",
    "    # in time and memory, where n = len(x).  *Don't* pass in huge\n",
    "    # samples!)\n",
    "\n",
    "    # Mean absolute difference\n",
    "    mad = np.abs(np.subtract.outer(x, x)).mean()\n",
    "    # Relative mean absolute difference\n",
    "    rmad = mad/np.mean(x)\n",
    "    # Gini coefficient\n",
    "    g = 0.5 * rmad\n",
    "    return g"
   ]
  },
  {
   "cell_type": "code",
   "execution_count": 399,
   "metadata": {},
   "outputs": [],
   "source": [
    "def counting(arr):\n",
    "    mySet = set(arr)\n",
    "    myList = []\n",
    "    myNewSet = []\n",
    "    for i in mySet:\n",
    "        myNewSet.append(i)\n",
    "        \n",
    "    for i in range(len(myNewSet)):\n",
    "        myList.append(0)\n",
    "        for j in arr:\n",
    "            if (myNewSet[i]==j):\n",
    "                myList[i] += 1\n",
    "    return myList"
   ]
  },
  {
   "cell_type": "code",
   "execution_count": 250,
   "metadata": {
    "collapsed": true
   },
   "outputs": [],
   "source": [
    "def menorCluster(clusters):\n",
    "    mySet = set(clusters)\n",
    "    minimo = len(clusters)\n",
    "    menor = len(clusters)\n",
    "    for i in mySet:\n",
    "        if((clusters.count(i)) < minimo):\n",
    "            minimo = clusters.count(i)\n",
    "            menor = i\n",
    "            \n",
    "    myList = []\n",
    "    \n",
    "    for j in range(len(clusters)):\n",
    "        if(clusters[j]==menor):\n",
    "            myList.append(j)\n",
    "            \n",
    "    return myList"
   ]
  },
  {
   "cell_type": "code",
   "execution_count": 402,
   "metadata": {},
   "outputs": [],
   "source": [
    "def genieLinkage(data, limiar):\n",
    "    \n",
    "    clusters = {}\n",
    "    row_index = 0\n",
    "    col_index = 0\n",
    "    array = []\n",
    "    \n",
    "\n",
    "    for n in range(data.shape[0]):\n",
    "        array.append(n)\n",
    "    \n",
    "        \n",
    "    clusters[0] = array.copy()\n",
    "\n",
    "    #finding minimum value from the distance matrix\n",
    "    #note that this loop will always return minimum value from bottom triangle of matrix\n",
    "    for k in range(1, data.shape[0]):\n",
    "        min_val = sys.maxsize\n",
    "        \n",
    "        if(gini(counting(clusters[k-1])) <= limiar):\n",
    "            for i in range(0, data.shape[0]):\n",
    "                for j in range(0, data.shape[1]):\n",
    "                    if(data[i][j]<=min_val):\n",
    "                        min_val = data[i][j]\n",
    "                        row_index = i\n",
    "                        col_index = j\n",
    "        else:\n",
    "            iList = menorCluster(clusters[k-1])\n",
    "            for i in iList:\n",
    "                for j in range(0, data.shape[0]):\n",
    "                    if(j not in iList):\n",
    "                        if(data[i][j]<=min_val):\n",
    "                            min_val = data[i][j]\n",
    "                            row_index = i\n",
    "                            col_index = j\n",
    "\n",
    "        \n",
    "        #once we find the minimum value, we need to update the distance matrix\n",
    "        #updating the matrix by calculating the new distances from the cluster to all points\n",
    "        \n",
    "        #for Single Linkage\n",
    "        \n",
    "#         for i in range(0,data.shape[0]):\n",
    "#             if(i != col_index):\n",
    "#                 #we calculate the distance of every data point from newly formed cluster and update the matrix.\n",
    "#                 temp = min(data[i][col_index],data[row_index][i])\n",
    "#                 #we update the matrix symmetrically as our distance matrix should always be symmetric\n",
    "#                 data[row_index][i] = temp\n",
    "#                 data[i][col_index] = temp\n",
    "\n",
    "                   \n",
    "        #set the rows and columns for the cluster with higher index i.e. the row index to infinity\n",
    "        #Set input[row_index][for_all_i] = infinity\n",
    "        #set input[for_all_i][row_index] = infinity\n",
    "#         data[row_index][col_index] = sys.maxsize\n",
    "#         data[col_index][row_index] = sys.maxsize\n",
    "            \n",
    "        #Manipulating the dictionary to keep track of cluster formation in each step\n",
    "        #if k=0,then all datapoints are clusters\n",
    "        array = clusters[k-1].copy()\n",
    "        minimum = min(array[row_index],array[col_index])\n",
    "        maximum = max(array[row_index],array[col_index])\n",
    "        \n",
    "        for n in range(len(array)):\n",
    "            if(array[n]==maximum):\n",
    "                array[n] = minimum\n",
    "        clusters[k] = array.copy()\n",
    "        \n",
    "        for i in range(len(array)):\n",
    "            for j in range(len(array)):\n",
    "                if(array[i]==array[j]):\n",
    "                    data[i][j] = sys.maxsize\n",
    "                    \n",
    "        if (k>(data.shape[0]*0.8)):\n",
    "            return clusters[k]"
   ]
  },
  {
   "cell_type": "code",
   "execution_count": 403,
   "metadata": {},
   "outputs": [],
   "source": [
    "def genie(dataset, limiar):\n",
    "    \n",
    "#     dataX = dataset.loc[:,dataset.columns[:-1]].values\n",
    "#     dataY = dataset.loc[:,[dataset.columns[-1]]].values\n",
    "    dataX = dataset.data\n",
    "    dataY = dataset.target\n",
    "    \n",
    "    dataDistances = pairwise_distances(dataX,metric='euclidean')\n",
    "    #making all the diagonal elements infinity \n",
    "    np.fill_diagonal(dataDistances,sys.maxsize)\n",
    "    \n",
    "#     dataMST = minimum_spanning_tree(dataDistances)\n",
    "    \n",
    "#     dataMST = dataMST.toarray().astype(float)\n",
    "    \n",
    "    Z = genieLinkage(dataDistances, limiar)\n",
    "\n",
    "    return Z"
   ]
  },
  {
   "cell_type": "code",
   "execution_count": null,
   "metadata": {
    "collapsed": true
   },
   "outputs": [],
   "source": [
    "iris = lo\n",
    "genie(lenses, 0.36)"
   ]
  },
  {
   "cell_type": "code",
   "execution_count": 349,
   "metadata": {
    "collapsed": true
   },
   "outputs": [],
   "source": [
    "from sklearn.datasets import load_iris\n",
    "iris = load_iris()"
   ]
  },
  {
   "cell_type": "code",
   "execution_count": 404,
   "metadata": {},
   "outputs": [
    {
     "data": {
      "text/plain": [
       "[0,\n",
       " 0,\n",
       " 0,\n",
       " 0,\n",
       " 0,\n",
       " 0,\n",
       " 0,\n",
       " 0,\n",
       " 0,\n",
       " 0,\n",
       " 0,\n",
       " 0,\n",
       " 0,\n",
       " 0,\n",
       " 14,\n",
       " 14,\n",
       " 0,\n",
       " 0,\n",
       " 0,\n",
       " 0,\n",
       " 20,\n",
       " 0,\n",
       " 0,\n",
       " 0,\n",
       " 0,\n",
       " 0,\n",
       " 0,\n",
       " 0,\n",
       " 0,\n",
       " 0,\n",
       " 0,\n",
       " 20,\n",
       " 14,\n",
       " 14,\n",
       " 0,\n",
       " 0,\n",
       " 0,\n",
       " 0,\n",
       " 0,\n",
       " 0,\n",
       " 0,\n",
       " 0,\n",
       " 0,\n",
       " 0,\n",
       " 0,\n",
       " 0,\n",
       " 0,\n",
       " 0,\n",
       " 0,\n",
       " 0,\n",
       " 50,\n",
       " 51,\n",
       " 50,\n",
       " 53,\n",
       " 54,\n",
       " 55,\n",
       " 51,\n",
       " 57,\n",
       " 54,\n",
       " 53,\n",
       " 57,\n",
       " 61,\n",
       " 62,\n",
       " 63,\n",
       " 62,\n",
       " 54,\n",
       " 55,\n",
       " 62,\n",
       " 68,\n",
       " 53,\n",
       " 70,\n",
       " 71,\n",
       " 70,\n",
       " 63,\n",
       " 71,\n",
       " 54,\n",
       " 54,\n",
       " 50,\n",
       " 63,\n",
       " 53,\n",
       " 53,\n",
       " 53,\n",
       " 62,\n",
       " 83,\n",
       " 55,\n",
       " 51,\n",
       " 50,\n",
       " 68,\n",
       " 61,\n",
       " 53,\n",
       " 61,\n",
       " 63,\n",
       " 62,\n",
       " 57,\n",
       " 61,\n",
       " 61,\n",
       " 61,\n",
       " 71,\n",
       " 57,\n",
       " 61,\n",
       " 100,\n",
       " 101,\n",
       " 102,\n",
       " 103,\n",
       " 104,\n",
       " 105,\n",
       " 55,\n",
       " 107,\n",
       " 104,\n",
       " 109,\n",
       " 110,\n",
       " 110,\n",
       " 112,\n",
       " 101,\n",
       " 114,\n",
       " 100,\n",
       " 103,\n",
       " 117,\n",
       " 105,\n",
       " 70,\n",
       " 109,\n",
       " 114,\n",
       " 105,\n",
       " 70,\n",
       " 109,\n",
       " 102,\n",
       " 70,\n",
       " 70,\n",
       " 104,\n",
       " 102,\n",
       " 107,\n",
       " 117,\n",
       " 104,\n",
       " 83,\n",
       " 103,\n",
       " 107,\n",
       " 100,\n",
       " 103,\n",
       " 70,\n",
       " 112,\n",
       " 109,\n",
       " 141,\n",
       " 101,\n",
       " 109,\n",
       " 109,\n",
       " 141,\n",
       " 70,\n",
       " 110,\n",
       " 100,\n",
       " 70]"
      ]
     },
     "execution_count": 404,
     "metadata": {},
     "output_type": "execute_result"
    }
   ],
   "source": [
    "genie(iris, 0.4)"
   ]
  },
  {
   "cell_type": "code",
   "execution_count": null,
   "metadata": {
    "collapsed": true
   },
   "outputs": [],
   "source": []
  }
 ],
 "metadata": {
  "kernelspec": {
   "display_name": "Python 3",
   "language": "python",
   "name": "python3"
  },
  "language_info": {
   "codemirror_mode": {
    "name": "ipython",
    "version": 3
   },
   "file_extension": ".py",
   "mimetype": "text/x-python",
   "name": "python",
   "nbconvert_exporter": "python",
   "pygments_lexer": "ipython3",
   "version": "3.6.1"
  }
 },
 "nbformat": 4,
 "nbformat_minor": 2
}
